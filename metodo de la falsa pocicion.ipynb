{
 "cells": [
  {
   "cell_type": "markdown",
   "metadata": {},
   "source": [
    "# metodo de falsa posición\n",
    "\\begin{equation}\n",
    "f(c)=(g*m)/c * (1-exp(- (c/m) * t)) - v\n",
    "\\end{equation}"
   ]
  },
  {
   "cell_type": "code",
   "execution_count": 7,
   "metadata": {},
   "outputs": [],
   "source": [
    "import math\n",
    "from pylab import plot, show, grid, xlabel, ylabel, xlim, ylim\n",
    "from numpy import exp"
   ]
  },
  {
   "cell_type": "code",
   "execution_count": 15,
   "metadata": {},
   "outputs": [
    {
     "name": "stdout",
     "output_type": "stream",
     "text": [
      "ingrese el valor inferior del intervalo\n",
      "12\n",
      "ingrese el valor superior del intervalo\n",
      "16\n",
      "si hay una raiz en el intervalo\n",
      "La iteracion actual es:  1\n",
      "la raiz es:  14.911303179105778\n",
      "el error verdadero es:  1.2789728934712814\n",
      "el primer error relativo no se puede calcular\n",
      "----------------------------------------\n",
      "La iteracion actual es:  2\n",
      "la raiz es:  14.794192783301051\n",
      "el error verdadero es:  0.4835480764861143\n",
      "y su error Relativo es:  0.7915970646057454\n",
      "----------------------------------------\n",
      "La iteracion actual es:  3\n",
      "la raiz es:  14.781695337923324\n",
      "el error verdadero es:  0.39866425268846883\n",
      "y su error Relativo es:  0.084546766064542\n",
      "----------------------------------------\n",
      "La iteracion actual es:  4\n",
      "la raiz es:  14.780362843005989\n",
      "el error verdadero es:  0.3896138219519666\n",
      "y su error Relativo es:  0.00901530585878517\n",
      "----------------------------------------\n",
      "La iteracion actual es:  5\n",
      "la raiz es:  14.780220783905541\n",
      "el error verdadero es:  0.38864894318780496\n",
      "y su error Relativo es:  0.0009611432909189162\n",
      "----------------------------------------\n",
      "la raiz aproximada es:  14.780220783905541 y se obtuvo en  5 iteraciones\n"
     ]
    }
   ],
   "source": [
    "import math\n",
    "\n",
    "def f(x):\n",
    "    \n",
    "  g=9.8\n",
    "  m=68.1\n",
    "  t=10\n",
    "  v=40\n",
    "  #\n",
    "  resultado = ((g*m/x)*(1-math.exp(-(x/m)*t)))-v\n",
    "  return resultado\n",
    "# \n",
    "def tol(n):\n",
    "  resultado=0.001*(10**(2-n))\n",
    "  return resultado\n",
    "  \n",
    "def ErrorVerdadero(vaverd,aproxact):\n",
    "  resultado=(vaverd-aproxact)/vaverd*100\n",
    "  return abs(resultado)\n",
    "  \n",
    "def ErrorRelativo(xr,auxiliar):\n",
    "  resultado=((xr-auxiliar)/xr*100)\n",
    "  return abs(resultado)\n",
    "  \n",
    "print(\"ingrese el valor inferior del intervalo\")\n",
    "xl=float(input())\n",
    "\n",
    "print(\"ingrese el valor superior del intervalo\")\n",
    "xu=float(input())\n",
    "\n",
    "while(f(xl)* f(xu)>0):\n",
    "  print(\"no hay una raiz en el intervalo\")\n",
    "  print(\"ingrese el valor inferior del intervalo\")\n",
    "  xl=float(input())\n",
    "  print(\"ingrese el valor superior del intervalo\")\n",
    "  xu=float(input())\n",
    "print(\"si hay una raiz en el intervalo\")\n",
    "xr= xu-(f(xu)*(xl-xu))/(f(xl)-f(xu))\n",
    "vr=14.723\n",
    "tolerancia=tol(3)\n",
    "auxiliar=0\n",
    "ErrorVerd=ErrorVerdadero(vr,xr)\n",
    "ErrorRel=ErrorRelativo(xr,auxiliar)\n",
    "contador=0\n",
    "while(ErrorRel>tolerancia):\n",
    "  contador+=1\n",
    "  auxiliar=xr\n",
    "  xr= xu-(f(xu)*(xl-xu))/(f(xl)-f(xu))\n",
    "  if f(xl)*f(xr)<0:\n",
    "    xu=xr\n",
    "  else:\n",
    "    if f(xu)*f(xr)<0:\n",
    "        xl=xr \n",
    "    else:\n",
    "      print(\"la raiz real es: \" , xr)\n",
    "  ErrorVerd=ErrorVerdadero(vr,xr)\n",
    "  print(\"La iteracion actual es: \", contador)\n",
    "  print(\"la raiz es: \", xr)\n",
    "  print(\"el error verdadero es: \", ErrorVerd)\n",
    "  if (contador>=2):\n",
    "    ErrorRel=ErrorRelativo(xr,auxiliar)\n",
    "    print(\"y su error Relativo es: \" , ErrorRel)\n",
    "    print(\"----------------------------------------\")\n",
    "  else:\n",
    "    print(\"el primer error relativo no se puede calcular\")\n",
    "    print(\"----------------------------------------\")\n",
    "print(\"la raiz aproximada es: \" , xr, \"y se obtuvo en \", contador, \"iteraciones\")\n",
    "  "
   ]
  },
  {
   "cell_type": "code",
   "execution_count": null,
   "metadata": {},
   "outputs": [],
   "source": []
  }
 ],
 "metadata": {
  "kernelspec": {
   "display_name": "Python 3",
   "language": "python",
   "name": "python3"
  },
  "language_info": {
   "codemirror_mode": {
    "name": "ipython",
    "version": 3
   },
   "file_extension": ".py",
   "mimetype": "text/x-python",
   "name": "python",
   "nbconvert_exporter": "python",
   "pygments_lexer": "ipython3",
   "version": "3.5.2"
  }
 },
 "nbformat": 4,
 "nbformat_minor": 2
}
